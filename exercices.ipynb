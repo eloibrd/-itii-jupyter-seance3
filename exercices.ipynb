{
 "cells": [
  {
   "cell_type": "code",
   "execution_count": 12,
   "metadata": {},
   "outputs": [
    {
     "data": {
      "image/png": "[encoded data removed]",
      "text/plain": [
       "<Figure size 432x288 with 1 Axes>"
      ]
     },
     "metadata": {
      "needs_background": "light"
     },
     "output_type": "display_data"
    }
   ],
   "source": [
    "import numpy as np\n",
    "import matplotlib.pyplot as mpl\n",
    "\n",
    "x = np.linspace(0, 1, 100)\n",
    "\n",
    "mpl.plot(x, x**3+2*x-2, label='f')\n",
    "mpl.xlabel('x')\n",
    "mpl.ylabel('y')\n",
    "mpl.title(\"Tracé de f\")\n",
    "mpl.legend()\n",
    "mpl.show()"
   ]
  },
  {
   "cell_type": "code",
   "execution_count": 22,
   "metadata": {},
   "outputs": [
    {
     "name": "stdout",
     "output_type": "stream",
     "text": [
      "True\n",
      "16\n"
     ]
    }
   ],
   "source": [
    "def f(x):\n",
    "    return x**3+2*x-2\n",
    "\n",
    "print((f(0)>0 and f(0.5)>0) or (f(0)<0 and f(0.5)<0))"
   ]
  },
  {
   "cell_type": "code",
   "execution_count": 56,
   "metadata": {},
   "outputs": [
    {
     "name": "stdout",
     "output_type": "stream",
     "text": [
      "précision de la recherche ?0.01\n",
      "a : 0.5, midle : 0.75, b : 1, ecart : 0.5\n",
      "a : 0.75, midle : 0.875, b : 1, ecart : 0.25\n",
      "a : 0.75, midle : 0.8125, b : 0.875, ecart : 0.125\n",
      "a : 0.75, midle : 0.78125, b : 0.8125, ecart : 0.0625\n",
      "a : 0.75, midle : 0.765625, b : 0.78125, ecart : 0.03125\n",
      "a : 0.765625, midle : 0.7734375, b : 0.78125, ecart : 0.015625\n",
      "a : 0.765625, midle : 0.76953125, b : 0.7734375, ecart : 0.0078125\n",
      "x_0 est compris entre 0.765625 et 0.7734375\n"
     ]
    }
   ],
   "source": [
    "def recherche_x_0(n):\n",
    "    a = 0\n",
    "    b = 1\n",
    "    while(b-a>n):\n",
    "        if(f(a) * f((b+a)/2) > 0):\n",
    "            ## x_0 est compris entre b/2 et b\n",
    "            a += (b-a)/2\n",
    "        else:\n",
    "            ## x_0 est compris entre a et b/2\n",
    "            b -= (b-a)/2\n",
    "        print(\"a : \"+str(a)+\", midle : \"+str((b+a)/2)+\", b : \"+str(b)+\", ecart : \"+str(b-a))\n",
    "    print(\"x_0 est compris entre \"+str(a)+\" et \"+str(b))\n",
    "    \n",
    "recherche_x_0(float(input(\"précision de la recherche ?\")))"
   ]
  },
  {
   "cell_type": "code",
   "execution_count": null,
   "metadata": {},
   "outputs": [],
   "source": [
    "#Exercice 2\n",
    "import numpy as np\n",
    "\n",
    "array_3 = np.array([[2,7,6], [9,5,1], [4,3,8]])\n",
    "array_4 = np.array([[1,6,7,4], [4,7,6,1], [8,3,2,5], [5,2,3,8]])\n",
    "\n",
    "def test_carre_magique(array):\n",
    "    #init checking val\n",
    "    val = 0\n",
    "    for i in range(0, len(array)):\n",
    "        val += array[i][0]\n",
    "    \n",
    "    #Horizontaly\n",
    "    check = 0\n",
    "    for i in range(0, len(array)):\n",
    "        for j in range(0, len(array[i])):\n",
    "            check += array[i][j]\n",
    "        \n",
    "        if(check != val):\n",
    "            return False\n",
    "        else:\n",
    "            check = 0\n",
    "    \n",
    "    #Verticaly\n",
    "    for i in range(0,len(array)):\n",
    "        for j in range(0,len(array)):\n",
    "            check += array[j][i]\n",
    "        \n",
    "        if(check != val):\n",
    "            return False\n",
    "        else:\n",
    "            check = 0\n",
    "            \n",
    "    #Diagonaly\n",
    "    first_diag = sum(array[i][i] for i in range(0, len(array)))\n",
    "    second_diag = sum(array[i][len(array)-i-1] for i in range(0,len(array)))\n",
    "    \n",
    "    if(first_diag != val or second_diag != val):\n",
    "        return False\n",
    "    return True\n",
    "\n",
    "def carre_aleatoire(size):\n",
    "    return np.random.randint(1, size**2, size=(size, size))\n",
    "\n",
    "def proba():\n",
    "    nbCarreValide = 0\n",
    "    for i in range(0,10000):\n",
    "        if(test_carre_magique(carre_aleatoire(2))):\n",
    "            nbCarreValide+=1\n",
    "    \n",
    "    return nbCarreValide/10000\n",
    "\n",
    "def addition_carre(array, n):\n",
    "    return array+n\n",
    "\n",
    "#print(test_carre_magique(array_3))\n",
    "test_carre_magique(array_3)\n",
    "test_carre_magique(array_4)\n",
    "print(carre_aleatoire(2))\n",
    "print(proba())\n",
    "print(addition_carre(array_3,2))"
   ]
  }
 ],
 "metadata": {
  "kernelspec": {
   "display_name": "Python 3",
   "language": "python",
   "name": "python3"
  },
  "language_info": {
   "codemirror_mode": {
    "name": "ipython",
    "version": 3
   },
   "file_extension": ".py",
   "mimetype": "text/x-python",
   "name": "python",
   "nbconvert_exporter": "python",
   "pygments_lexer": "ipython3",
   "version": "3.7.6"
  }
 },
 "nbformat": 4,
 "nbformat_minor": 4
}
